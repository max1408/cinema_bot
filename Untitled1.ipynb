{
 "cells": [
  {
   "cell_type": "code",
   "execution_count": 1,
   "metadata": {
    "collapsed": true
   },
   "outputs": [
    {
     "name": "stderr",
     "output_type": "stream",
     "text": [
      "[nltk_data] Downloading package punkt to /home/popov/nltk_data...\n",
      "[nltk_data]   Package punkt is already up-to-date!\n",
      "[nltk_data] Downloading package stopwords to /home/popov/nltk_data...\n",
      "[nltk_data]   Package stopwords is already up-to-date!\n",
      "[nltk_data] Downloading package perluniprops to\n",
      "[nltk_data]     /home/popov/nltk_data...\n",
      "[nltk_data]   Package perluniprops is already up-to-date!\n",
      "[nltk_data] Downloading package nonbreaking_prefixes to\n",
      "[nltk_data]     /home/popov/nltk_data...\n",
      "[nltk_data]   Package nonbreaking_prefixes is already up-to-date!\n",
      "/home/popov/Documents/bots/env/lib/python3.6/site-packages/fuzzywuzzy/fuzz.py:35: UserWarning: Using slow pure-python SequenceMatcher. Install python-Levenshtein to remove this warning\n",
      "  warnings.warn('Using slow pure-python SequenceMatcher. Install python-Levenshtein to remove this warning')\n"
     ]
    }
   ],
   "source": [
    "import requests\n",
    "import numpy as np\n",
    "from deeppavlov import configs, build_model\n",
    "from deeppavlov.models.slotfill.slotfill import DstcSlotFillingNetwork\n",
    "from deeppavlov.models.slotfill.slotfill_raw import SlotFillingComponent"
   ]
  },
  {
   "cell_type": "code",
   "execution_count": 8,
   "metadata": {},
   "outputs": [
    {
     "name": "stderr",
     "output_type": "stream",
     "text": [
      "2018-12-10 20:51:42.453 DEBUG in 'urllib3.connectionpool'['connectionpool'] at line 823: Starting new HTTPS connection (1): api.themoviedb.org:443\n",
      "2018-12-10 20:51:43.86 DEBUG in 'urllib3.connectionpool'['connectionpool'] at line 393: https://api.themoviedb.org:443 \"GET /3/genre/movie/list?api_key=7f6e07cc847527b47335a6ce1439c3b5 HTTP/1.1\" 200 547\n"
     ]
    }
   ],
   "source": [
    "response = requests.request('GET', 'https://api.themoviedb.org/3/genre/movie/list?api_key=7f6e07cc847527b47335a6ce1439c3b5')"
   ]
  },
  {
   "cell_type": "code",
   "execution_count": 9,
   "metadata": {},
   "outputs": [
    {
     "data": {
      "text/plain": [
       "{'genres': [{'id': 28, 'name': 'Action'},\n",
       "  {'id': 12, 'name': 'Adventure'},\n",
       "  {'id': 16, 'name': 'Animation'},\n",
       "  {'id': 35, 'name': 'Comedy'},\n",
       "  {'id': 80, 'name': 'Crime'},\n",
       "  {'id': 99, 'name': 'Documentary'},\n",
       "  {'id': 18, 'name': 'Drama'},\n",
       "  {'id': 10751, 'name': 'Family'},\n",
       "  {'id': 14, 'name': 'Fantasy'},\n",
       "  {'id': 36, 'name': 'History'},\n",
       "  {'id': 27, 'name': 'Horror'},\n",
       "  {'id': 10402, 'name': 'Music'},\n",
       "  {'id': 9648, 'name': 'Mystery'},\n",
       "  {'id': 10749, 'name': 'Romance'},\n",
       "  {'id': 878, 'name': 'Science Fiction'},\n",
       "  {'id': 10770, 'name': 'TV Movie'},\n",
       "  {'id': 53, 'name': 'Thriller'},\n",
       "  {'id': 10752, 'name': 'War'},\n",
       "  {'id': 37, 'name': 'Western'}]}"
      ]
     },
     "execution_count": 9,
     "metadata": {},
     "output_type": "execute_result"
    }
   ],
   "source": [
    "response.json()"
   ]
  },
  {
   "cell_type": "code",
   "execution_count": 96,
   "metadata": {},
   "outputs": [],
   "source": [
    "class Bot:\n",
    "    def __init__(self):\n",
    "        self.ner_model = ner_model = build_model(\"ner_config.json\", download=False)\n",
    "        self.genre_to_id = {}\n",
    "        response = requests.request('GET', 'https://api.themoviedb.org/3/genre/movie/list?api_key=7f6e07cc847527b47335a6ce1439c3b5')\n",
    "        self.genre_to_id['any'] = ''\n",
    "        for d in response.json()['genres']:\n",
    "            self.genre_to_id[d['name'].lower()] = d['id']\n",
    "            \n",
    "    def call_api(self, genre):\n",
    "        api_key = \"7f6e07cc847527b47335a6ce1439c3b5\"\n",
    "        headers = {'Content-Type': 'application/json',\n",
    "                   'Accept': 'application/json',\n",
    "                   'Connection': 'close'}\n",
    "        base_url = \"https://api.themoviedb.org/3/discover/movie?\"\n",
    "        query = \"with_genres={0}&sort_by=vote_average.desc&api_key={1}\".format(self.genre_to_id[genre], api_key)\n",
    "        response = requests.request('GET', base_url + query, headers=headers)\n",
    "        return response.json()['results'][0]['title']\n",
    "    \n",
    "    def ner(self, message):\n",
    "        model = self.ner_model([message])\n",
    "        sentence, labels = model[0][0], model[1][0]\n",
    "        entities, slots = DstcSlotFillingNetwork._chunk_finder(sentence, labels)\n",
    "\n",
    "        s = {}\n",
    "        for i, slot in enumerate(slots):\n",
    "            if slot not in s:\n",
    "                s[slot] = []\n",
    "            s[slot].append(entities[i])\n",
    "        return s\n",
    "    \n",
    "    def find_nearest_genre(self, genre_candidate):\n",
    "        d = [SlotFillingComponent.fuzzy_substring_distance(genre_candidate, genre) for genre in self.genre_to_id]\n",
    "        d = np.array(d)\n",
    "        return list(self.genre_to_id.keys())[np.argmin(d[:,0])]"
   ]
  },
  {
   "cell_type": "code",
   "execution_count": 97,
   "metadata": {
    "collapsed": true
   },
   "outputs": [
    {
     "name": "stderr",
     "output_type": "stream",
     "text": [
      "2018-11-29 15:12:03.64 INFO in 'deeppavlov.core.data.simple_vocab'['simple_vocab'] at line 100: [loading vocabulary from /home/popov/.deeppavlov/models/ner/tag.dict]\n",
      "2018-11-29 15:12:03.67 INFO in 'deeppavlov.core.data.simple_vocab'['simple_vocab'] at line 100: [loading vocabulary from /home/popov/.deeppavlov/models/ner/char.dict]\n",
      "2018-11-29 15:12:03.70 INFO in 'deeppavlov.models.embedders.glove_embedder'['glove_embedder'] at line 52: [loading GloVe embeddings from `/home/popov/.deeppavlov/downloads/embeddings/glove.6B.100d.txt`]\n",
      "2018-11-29 15:12:03.71 INFO in 'gensim.models.keyedvectors'['keyedvectors'] at line 204: loading projection weights from /home/popov/.deeppavlov/downloads/embeddings/glove.6B.100d.txt\n",
      "2018-11-29 15:12:03.72 DEBUG in 'smart_open.smart_open_lib'['smart_open_lib'] at line 176: {'kw': {}, 'mode': 'rb', 'uri': '/home/popov/.deeppavlov/downloads/embeddings/glove.6B.100d.txt'}\n",
      "2018-11-29 15:12:55.878 INFO in 'gensim.models.keyedvectors'['keyedvectors'] at line 266: loaded (400000, 100) matrix from /home/popov/.deeppavlov/downloads/embeddings/glove.6B.100d.txt\n",
      "2018-11-29 15:12:57.261 INFO in 'deeppavlov.core.layers.tf_layers'['tf_layers'] at line 757: \n",
      "Warning! tf.contrib.cudnn_rnn.CudnnCompatibleLSTMCell is used. It is okay for inference mode, but if you train your model with this cell it could NOT be used with tf.contrib.cudnn_rnn.CudnnLSTMCell later. \n",
      "2018-11-29 15:12:57.392 INFO in 'deeppavlov.core.layers.tf_layers'['tf_layers'] at line 757: \n",
      "Warning! tf.contrib.cudnn_rnn.CudnnCompatibleLSTMCell is used. It is okay for inference mode, but if you train your model with this cell it could NOT be used with tf.contrib.cudnn_rnn.CudnnLSTMCell later. \n",
      "2018-11-29 15:12:59.933 INFO in 'deeppavlov.core.models.tf_model'['tf_model'] at line 43: [loading model from /home/popov/.deeppavlov/models/ner/model]\n",
      "2018-11-29 15:12:59.975 INFO in 'tensorflow'['tf_logging'] at line 115: Restoring parameters from /home/popov/.deeppavlov/models/ner/model\n",
      "2018-11-29 15:13:00.236 DEBUG in 'urllib3.connectionpool'['connectionpool'] at line 823: Starting new HTTPS connection (1): api.themoviedb.org:443\n",
      "2018-11-29 15:13:00.820 DEBUG in 'urllib3.connectionpool'['connectionpool'] at line 393: https://api.themoviedb.org:443 \"GET /3/genre/movie/list?api_key=7f6e07cc847527b47335a6ce1439c3b5 HTTP/1.1\" 200 547\n"
     ]
    }
   ],
   "source": [
    "bot = Bot()"
   ]
  },
  {
   "cell_type": "code",
   "execution_count": 98,
   "metadata": {},
   "outputs": [
    {
     "name": "stderr",
     "output_type": "stream",
     "text": [
      "2018-11-29 15:13:15.326 DEBUG in 'urllib3.connectionpool'['connectionpool'] at line 823: Starting new HTTPS connection (1): api.themoviedb.org:443\n",
      "2018-11-29 15:13:15.973 DEBUG in 'urllib3.connectionpool'['connectionpool'] at line 393: https://api.themoviedb.org:443 \"GET /3/discover/movie?with_genres=&sort_by=vote_average.desc&api_key=7f6e07cc847527b47335a6ce1439c3b5 HTTP/1.1\" 200 3682\n"
     ]
    },
    {
     "name": "stdout",
     "output_type": "stream",
     "text": [
      "Screwed\n"
     ]
    }
   ],
   "source": [
    "message = 'I want to watch an action film with Arnold Swarzenneger and Brad Pitt'\n",
    "message = 'blablabla'\n",
    "slots = bot.ner(message)\n",
    "\n",
    "if 'GENRE' in slots:\n",
    "    first_genre = slots['GENRE'][0]\n",
    "    genre = bot.find_nearest_genre(first_genre)\n",
    "else:\n",
    "    genre = 'any'\n",
    "    \n",
    "film = bot.call_api(genre)\n",
    "print(film)"
   ]
  },
  {
   "cell_type": "code",
   "execution_count": null,
   "metadata": {},
   "outputs": [],
   "source": []
  }
 ],
 "metadata": {
  "kernelspec": {
   "display_name": "Python 3",
   "language": "python",
   "name": "python3"
  },
  "language_info": {
   "codemirror_mode": {
    "name": "ipython",
    "version": 3
   },
   "file_extension": ".py",
   "mimetype": "text/x-python",
   "name": "python",
   "nbconvert_exporter": "python",
   "pygments_lexer": "ipython3",
   "version": "3.6.7"
  }
 },
 "nbformat": 4,
 "nbformat_minor": 2
}
